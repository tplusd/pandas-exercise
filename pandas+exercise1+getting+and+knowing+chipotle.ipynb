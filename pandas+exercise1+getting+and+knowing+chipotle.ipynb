{
 "cells": [
  {
   "cell_type": "code",
   "execution_count": 3,
   "metadata": {},
   "outputs": [
    {
     "name": "stdout",
     "output_type": "stream",
     "text": [
      "   order_id  quantity                              item_name  \\\n",
      "0         1         1           Chips and Fresh Tomato Salsa   \n",
      "1         1         1                                   Izze   \n",
      "2         1         1                       Nantucket Nectar   \n",
      "3         1         1  Chips and Tomatillo-Green Chili Salsa   \n",
      "4         2         2                           Chicken Bowl   \n",
      "5         3         1                           Chicken Bowl   \n",
      "6         3         1                          Side of Chips   \n",
      "7         4         1                          Steak Burrito   \n",
      "8         4         1                       Steak Soft Tacos   \n",
      "9         5         1                          Steak Burrito   \n",
      "\n",
      "                                  choice_description item_price  \n",
      "0                                                NaN     $2.39   \n",
      "1                                       [Clementine]     $3.39   \n",
      "2                                            [Apple]     $3.39   \n",
      "3                                                NaN     $2.39   \n",
      "4  [Tomatillo-Red Chili Salsa (Hot), [Black Beans...    $16.98   \n",
      "5  [Fresh Tomato Salsa (Mild), [Rice, Cheese, Sou...    $10.98   \n",
      "6                                                NaN     $1.69   \n",
      "7  [Tomatillo Red Chili Salsa, [Fajita Vegetables...    $11.75   \n",
      "8  [Tomatillo Green Chili Salsa, [Pinto Beans, Ch...     $9.25   \n",
      "9  [Fresh Tomato Salsa, [Rice, Black Beans, Pinto...     $9.25   \n"
     ]
    }
   ],
   "source": [
    "import pandas as pd\n",
    "import numpy as np\n",
    "url = \"https://raw.githubusercontent.com/justmarkham/DAT8/master/data/chipotle.tsv\"\n",
    "chipo = pd.read_csv(url,header=0,sep='\\t')\n",
    "print(chipo.head(10))"
   ]
  },
  {
   "cell_type": "code",
   "execution_count": 2,
   "metadata": {},
   "outputs": [
    {
     "name": "stdout",
     "output_type": "stream",
     "text": [
      "4622\n",
      "5\n"
     ]
    }
   ],
   "source": [
    "# number of the observations\n",
    "print(len(chipo))\n",
    "#number of the columns\n",
    "print(len(chipo.columns))"
   ]
  },
  {
   "cell_type": "code",
   "execution_count": 3,
   "metadata": {},
   "outputs": [
    {
     "name": "stdout",
     "output_type": "stream",
     "text": [
      "4622\n",
      "5\n"
     ]
    }
   ],
   "source": [
    "# or we can use\n",
    "print(chipo.shape[0])\n",
    "print(chipo.shape[1])"
   ]
  },
  {
   "cell_type": "code",
   "execution_count": 4,
   "metadata": {},
   "outputs": [
    {
     "name": "stdout",
     "output_type": "stream",
     "text": [
      "Index(['order_id', 'quantity', 'item_name', 'choice_description',\n",
      "       'item_price'],\n",
      "      dtype='object')\n"
     ]
    }
   ],
   "source": [
    "# print the name of all the columns\n",
    "print(chipo.columns)\n"
   ]
  },
  {
   "cell_type": "code",
   "execution_count": 5,
   "metadata": {},
   "outputs": [
    {
     "name": "stdout",
     "output_type": "stream",
     "text": [
      "RangeIndex(start=0, stop=4622, step=1)\n"
     ]
    }
   ],
   "source": [
    "# how is the data indexed\n",
    "print(chipo.index)"
   ]
  },
  {
   "cell_type": "code",
   "execution_count": 6,
   "metadata": {},
   "outputs": [
    {
     "name": "stdout",
     "output_type": "stream",
     "text": [
      "                                       order_id  quantity\n",
      "item_name                                                \n",
      "Chicken Bowl                             713926       761\n",
      "Chicken Burrito                          497303       591\n",
      "Chips and Guacamole                      449959       506\n",
      "Steak Burrito                            328437       386\n",
      "Canned Soft Drink                        304753       351\n",
      "Chips                                    208004       230\n",
      "Steak Bowl                               193752       221\n",
      "Bottled Water                            175944       211\n",
      "Chips and Fresh Tomato Salsa             100419       130\n",
      "Canned Soda                               76396       126\n",
      "Chicken Salad Bowl                       117104       123\n",
      "Chicken Soft Tacos                        98395       120\n",
      "Side of Chips                             84769       110\n",
      "Veggie Burrito                            80962        97\n",
      "Barbacoa Burrito                          74718        91\n",
      "Veggie Bowl                               72270        87\n",
      "Carnitas Bowl                             62742        71\n",
      "Barbacoa Bowl                             53972        66\n",
      "Carnitas Burrito                          51652        60\n",
      "Steak Soft Tacos                          50177        56\n",
      "6 Pack Soft Drink                         52322        55\n",
      "Chips and Tomatillo Red Chili Salsa       45556        50\n",
      "Chicken Crispy Tacos                      47382        50\n",
      "Chips and Tomatillo Green Chili Salsa     41170        45\n",
      "Carnitas Soft Tacos                       37673        40\n",
      "Steak Crispy Tacos                        35818        36\n",
      "Chips and Tomatillo-Green Chili Salsa     21826        33\n",
      "Steak Salad Bowl                          29590        31\n",
      "Nantucket Nectar                          21814        29\n",
      "Chips and Tomatillo-Red Chili Salsa       18344        25\n",
      "Barbacoa Soft Tacos                       18725        25\n",
      "Chips and Roasted Chili Corn Salsa        14999        23\n",
      "Izze                                      10587        20\n",
      "Veggie Salad Bowl                         17303        18\n",
      "Chips and Roasted Chili-Corn Salsa        17462        18\n",
      "Barbacoa Crispy Tacos                      5613        12\n",
      "Barbacoa Salad Bowl                        9708        10\n",
      "Chicken Salad                             10465         9\n",
      "Carnitas Crispy Tacos                      5868         8\n",
      "Veggie Soft Tacos                          5520         8\n",
      "Burrito                                    1550         6\n",
      "Veggie Salad                               7265         6\n",
      "Carnitas Salad Bowl                        6693         6\n",
      "Bowl                                        472         4\n",
      "Steak Salad                                2362         4\n",
      "Salad                                      1150         2\n",
      "Crispy Tacos                                434         2\n",
      "Chips and Mild Fresh Tomato Salsa           279         1\n",
      "Carnitas Salad                             1500         1\n",
      "Veggie Crispy Tacos                         668         1\n",
      "Chicken Bowl\n",
      "761\n"
     ]
    }
   ],
   "source": [
    "# which was the most ordered item\n",
    "print(chipo.groupby('item_name').sum().sort_values(by=['quantity'],ascending=False))\n",
    "print(chipo.groupby('item_name').sum().sort_values(by=['quantity'],ascending=False).index[0])\n",
    "print(chipo.groupby('item_name').sum().sort_values(by=['quantity'],ascending=False)['quantity'][0])"
   ]
  },
  {
   "cell_type": "code",
   "execution_count": 7,
   "metadata": {},
   "outputs": [
    {
     "name": "stdout",
     "output_type": "stream",
     "text": [
      "[Diet Coke]\n",
      "159\n"
     ]
    }
   ],
   "source": [
    "chipo.groupby(by='choice_description').sum().sort_values(by='quantity')\n",
    "print(chipo.groupby(by='choice_description').sum().sort_values(by='quantity',ascending=False).index[0])\n",
    "print(chipo.groupby(by='choice_description').sum().sort_values(by='quantity',ascending=False)['quantity'][0])"
   ]
  },
  {
   "cell_type": "code",
   "execution_count": 8,
   "metadata": {},
   "outputs": [
    {
     "name": "stdout",
     "output_type": "stream",
     "text": [
      "      order_id  quantity                              item_name  \\\n",
      "0            1         1           Chips and Fresh Tomato Salsa   \n",
      "1            1         1                                   Izze   \n",
      "2            1         1                       Nantucket Nectar   \n",
      "3            1         1  Chips and Tomatillo-Green Chili Salsa   \n",
      "4            2         2                           Chicken Bowl   \n",
      "5            3         1                           Chicken Bowl   \n",
      "6            3         1                          Side of Chips   \n",
      "7            4         1                          Steak Burrito   \n",
      "8            4         1                       Steak Soft Tacos   \n",
      "9            5         1                          Steak Burrito   \n",
      "10           5         1                    Chips and Guacamole   \n",
      "11           6         1                   Chicken Crispy Tacos   \n",
      "12           6         1                     Chicken Soft Tacos   \n",
      "13           7         1                           Chicken Bowl   \n",
      "14           7         1                    Chips and Guacamole   \n",
      "15           8         1  Chips and Tomatillo-Green Chili Salsa   \n",
      "16           8         1                        Chicken Burrito   \n",
      "17           9         1                        Chicken Burrito   \n",
      "18           9         2                            Canned Soda   \n",
      "19          10         1                           Chicken Bowl   \n",
      "20          10         1                    Chips and Guacamole   \n",
      "21          11         1                       Barbacoa Burrito   \n",
      "22          11         1                       Nantucket Nectar   \n",
      "23          12         1                        Chicken Burrito   \n",
      "24          12         1                                   Izze   \n",
      "25          13         1           Chips and Fresh Tomato Salsa   \n",
      "26          13         1                           Chicken Bowl   \n",
      "27          14         1                       Carnitas Burrito   \n",
      "28          14         1                            Canned Soda   \n",
      "29          15         1                        Chicken Burrito   \n",
      "...        ...       ...                                    ...   \n",
      "4592      1825         1                       Barbacoa Burrito   \n",
      "4593      1825         1                          Carnitas Bowl   \n",
      "4594      1825         1                          Barbacoa Bowl   \n",
      "4595      1826         1                           Chicken Bowl   \n",
      "4596      1826         1                    Chips and Guacamole   \n",
      "4597      1826         1                      Canned Soft Drink   \n",
      "4598      1826         1                          Bottled Water   \n",
      "4599      1827         1                           Chicken Bowl   \n",
      "4600      1827         1                    Chips and Guacamole   \n",
      "4601      1827         1                      Canned Soft Drink   \n",
      "4602      1827         1                       Barbacoa Burrito   \n",
      "4603      1827         1                       Barbacoa Burrito   \n",
      "4604      1828         1                           Chicken Bowl   \n",
      "4605      1828         1                    Chips and Guacamole   \n",
      "4606      1828         1                      Canned Soft Drink   \n",
      "4607      1829         1                          Steak Burrito   \n",
      "4608      1829         1                         Veggie Burrito   \n",
      "4609      1829         1                      Canned Soft Drink   \n",
      "4610      1830         1                          Steak Burrito   \n",
      "4611      1830         1                         Veggie Burrito   \n",
      "4612      1831         1                          Carnitas Bowl   \n",
      "4613      1831         1                                  Chips   \n",
      "4614      1831         1                          Bottled Water   \n",
      "4615      1832         1                     Chicken Soft Tacos   \n",
      "4616      1832         1                    Chips and Guacamole   \n",
      "4617      1833         1                          Steak Burrito   \n",
      "4618      1833         1                          Steak Burrito   \n",
      "4619      1834         1                     Chicken Salad Bowl   \n",
      "4620      1834         1                     Chicken Salad Bowl   \n",
      "4621      1834         1                     Chicken Salad Bowl   \n",
      "\n",
      "                                     choice_description item_price  \n",
      "0                                                   NaN     $2.39   \n",
      "1                                          [Clementine]     $3.39   \n",
      "2                                               [Apple]     $3.39   \n",
      "3                                                   NaN     $2.39   \n",
      "4     [Tomatillo-Red Chili Salsa (Hot), [Black Beans...    $16.98   \n",
      "5     [Fresh Tomato Salsa (Mild), [Rice, Cheese, Sou...    $10.98   \n",
      "6                                                   NaN     $1.69   \n",
      "7     [Tomatillo Red Chili Salsa, [Fajita Vegetables...    $11.75   \n",
      "8     [Tomatillo Green Chili Salsa, [Pinto Beans, Ch...     $9.25   \n",
      "9     [Fresh Tomato Salsa, [Rice, Black Beans, Pinto...     $9.25   \n",
      "10                                                  NaN     $4.45   \n",
      "11    [Roasted Chili Corn Salsa, [Fajita Vegetables,...     $8.75   \n",
      "12    [Roasted Chili Corn Salsa, [Rice, Black Beans,...     $8.75   \n",
      "13    [Fresh Tomato Salsa, [Fajita Vegetables, Rice,...    $11.25   \n",
      "14                                                  NaN     $4.45   \n",
      "15                                                  NaN     $2.39   \n",
      "16    [Tomatillo-Green Chili Salsa (Medium), [Pinto ...     $8.49   \n",
      "17    [Fresh Tomato Salsa (Mild), [Black Beans, Rice...     $8.49   \n",
      "18                                             [Sprite]     $2.18   \n",
      "19    [Tomatillo Red Chili Salsa, [Fajita Vegetables...     $8.75   \n",
      "20                                                  NaN     $4.45   \n",
      "21    [[Fresh Tomato Salsa (Mild), Tomatillo-Green C...     $8.99   \n",
      "22                                 [Pomegranate Cherry]     $3.39   \n",
      "23    [[Tomatillo-Green Chili Salsa (Medium), Tomati...    $10.98   \n",
      "24                                         [Grapefruit]     $3.39   \n",
      "25                                                  NaN     $2.39   \n",
      "26    [Roasted Chili Corn Salsa (Medium), [Pinto Bea...     $8.49   \n",
      "27    [[Tomatillo-Green Chili Salsa (Medium), Roaste...     $8.99   \n",
      "28                                         [Dr. Pepper]     $1.09   \n",
      "29    [Tomatillo-Green Chili Salsa (Medium), [Pinto ...     $8.49   \n",
      "...                                                 ...        ...  \n",
      "4592  [Tomatillo Red Chili Salsa, [Rice, Fajita Vege...    $11.75   \n",
      "4593  [Roasted Chili Corn Salsa, [Rice, Sour Cream, ...    $11.75   \n",
      "4594  [Roasted Chili Corn Salsa, [Pinto Beans, Sour ...    $11.75   \n",
      "4595  [Tomatillo Green Chili Salsa, [Rice, Black Bea...     $8.75   \n",
      "4596                                                NaN     $4.45   \n",
      "4597                                           [Nestea]     $1.25   \n",
      "4598                                                NaN     $1.50   \n",
      "4599      [Roasted Chili Corn Salsa, [Cheese, Lettuce]]     $8.75   \n",
      "4600                                                NaN     $4.45   \n",
      "4601                                        [Diet Coke]     $1.25   \n",
      "4602                      [Tomatillo Green Chili Salsa]     $9.25   \n",
      "4603                      [Tomatillo Green Chili Salsa]     $9.25   \n",
      "4604  [Fresh Tomato Salsa, [Rice, Black Beans, Chees...     $8.75   \n",
      "4605                                                NaN     $4.45   \n",
      "4606                                             [Coke]     $1.25   \n",
      "4607  [Tomatillo Green Chili Salsa, [Rice, Cheese, S...    $11.75   \n",
      "4608  [Tomatillo Red Chili Salsa, [Fajita Vegetables...    $11.25   \n",
      "4609                                           [Sprite]     $1.25   \n",
      "4610  [Fresh Tomato Salsa, [Rice, Sour Cream, Cheese...    $11.75   \n",
      "4611  [Tomatillo Green Chili Salsa, [Rice, Fajita Ve...    $11.25   \n",
      "4612  [Fresh Tomato Salsa, [Fajita Vegetables, Rice,...     $9.25   \n",
      "4613                                                NaN     $2.15   \n",
      "4614                                                NaN     $1.50   \n",
      "4615   [Fresh Tomato Salsa, [Rice, Cheese, Sour Cream]]     $8.75   \n",
      "4616                                                NaN     $4.45   \n",
      "4617  [Fresh Tomato Salsa, [Rice, Black Beans, Sour ...    $11.75   \n",
      "4618  [Fresh Tomato Salsa, [Rice, Sour Cream, Cheese...    $11.75   \n",
      "4619  [Fresh Tomato Salsa, [Fajita Vegetables, Pinto...    $11.25   \n",
      "4620  [Fresh Tomato Salsa, [Fajita Vegetables, Lettu...     $8.75   \n",
      "4621  [Fresh Tomato Salsa, [Fajita Vegetables, Pinto...     $8.75   \n",
      "\n",
      "[4622 rows x 5 columns]\n"
     ]
    }
   ],
   "source": [
    "# how many items in total\n",
    "sum(chipo['quantity'])\n",
    "print(chipo)"
   ]
  },
  {
   "cell_type": "code",
   "execution_count": 15,
   "metadata": {},
   "outputs": [
    {
     "name": "stdout",
     "output_type": "stream",
     "text": [
      "      order_id  quantity                              item_name  \\\n",
      "0            1         1           Chips and Fresh Tomato Salsa   \n",
      "1            1         1                                   Izze   \n",
      "2            1         1                       Nantucket Nectar   \n",
      "3            1         1  Chips and Tomatillo-Green Chili Salsa   \n",
      "4            2         2                           Chicken Bowl   \n",
      "5            3         1                           Chicken Bowl   \n",
      "6            3         1                          Side of Chips   \n",
      "7            4         1                          Steak Burrito   \n",
      "8            4         1                       Steak Soft Tacos   \n",
      "9            5         1                          Steak Burrito   \n",
      "10           5         1                    Chips and Guacamole   \n",
      "11           6         1                   Chicken Crispy Tacos   \n",
      "12           6         1                     Chicken Soft Tacos   \n",
      "13           7         1                           Chicken Bowl   \n",
      "14           7         1                    Chips and Guacamole   \n",
      "15           8         1  Chips and Tomatillo-Green Chili Salsa   \n",
      "16           8         1                        Chicken Burrito   \n",
      "17           9         1                        Chicken Burrito   \n",
      "18           9         2                            Canned Soda   \n",
      "19          10         1                           Chicken Bowl   \n",
      "20          10         1                    Chips and Guacamole   \n",
      "21          11         1                       Barbacoa Burrito   \n",
      "22          11         1                       Nantucket Nectar   \n",
      "23          12         1                        Chicken Burrito   \n",
      "24          12         1                                   Izze   \n",
      "25          13         1           Chips and Fresh Tomato Salsa   \n",
      "26          13         1                           Chicken Bowl   \n",
      "27          14         1                       Carnitas Burrito   \n",
      "28          14         1                            Canned Soda   \n",
      "29          15         1                        Chicken Burrito   \n",
      "...        ...       ...                                    ...   \n",
      "4592      1825         1                       Barbacoa Burrito   \n",
      "4593      1825         1                          Carnitas Bowl   \n",
      "4594      1825         1                          Barbacoa Bowl   \n",
      "4595      1826         1                           Chicken Bowl   \n",
      "4596      1826         1                    Chips and Guacamole   \n",
      "4597      1826         1                      Canned Soft Drink   \n",
      "4598      1826         1                          Bottled Water   \n",
      "4599      1827         1                           Chicken Bowl   \n",
      "4600      1827         1                    Chips and Guacamole   \n",
      "4601      1827         1                      Canned Soft Drink   \n",
      "4602      1827         1                       Barbacoa Burrito   \n",
      "4603      1827         1                       Barbacoa Burrito   \n",
      "4604      1828         1                           Chicken Bowl   \n",
      "4605      1828         1                    Chips and Guacamole   \n",
      "4606      1828         1                      Canned Soft Drink   \n",
      "4607      1829         1                          Steak Burrito   \n",
      "4608      1829         1                         Veggie Burrito   \n",
      "4609      1829         1                      Canned Soft Drink   \n",
      "4610      1830         1                          Steak Burrito   \n",
      "4611      1830         1                         Veggie Burrito   \n",
      "4612      1831         1                          Carnitas Bowl   \n",
      "4613      1831         1                                  Chips   \n",
      "4614      1831         1                          Bottled Water   \n",
      "4615      1832         1                     Chicken Soft Tacos   \n",
      "4616      1832         1                    Chips and Guacamole   \n",
      "4617      1833         1                          Steak Burrito   \n",
      "4618      1833         1                          Steak Burrito   \n",
      "4619      1834         1                     Chicken Salad Bowl   \n",
      "4620      1834         1                     Chicken Salad Bowl   \n",
      "4621      1834         1                     Chicken Salad Bowl   \n",
      "\n",
      "                                     choice_description item_price  \\\n",
      "0                                                   NaN     $2.39    \n",
      "1                                          [Clementine]     $3.39    \n",
      "2                                               [Apple]     $3.39    \n",
      "3                                                   NaN     $2.39    \n",
      "4     [Tomatillo-Red Chili Salsa (Hot), [Black Beans...    $16.98    \n",
      "5     [Fresh Tomato Salsa (Mild), [Rice, Cheese, Sou...    $10.98    \n",
      "6                                                   NaN     $1.69    \n",
      "7     [Tomatillo Red Chili Salsa, [Fajita Vegetables...    $11.75    \n",
      "8     [Tomatillo Green Chili Salsa, [Pinto Beans, Ch...     $9.25    \n",
      "9     [Fresh Tomato Salsa, [Rice, Black Beans, Pinto...     $9.25    \n",
      "10                                                  NaN     $4.45    \n",
      "11    [Roasted Chili Corn Salsa, [Fajita Vegetables,...     $8.75    \n",
      "12    [Roasted Chili Corn Salsa, [Rice, Black Beans,...     $8.75    \n",
      "13    [Fresh Tomato Salsa, [Fajita Vegetables, Rice,...    $11.25    \n",
      "14                                                  NaN     $4.45    \n",
      "15                                                  NaN     $2.39    \n",
      "16    [Tomatillo-Green Chili Salsa (Medium), [Pinto ...     $8.49    \n",
      "17    [Fresh Tomato Salsa (Mild), [Black Beans, Rice...     $8.49    \n",
      "18                                             [Sprite]     $2.18    \n",
      "19    [Tomatillo Red Chili Salsa, [Fajita Vegetables...     $8.75    \n",
      "20                                                  NaN     $4.45    \n",
      "21    [[Fresh Tomato Salsa (Mild), Tomatillo-Green C...     $8.99    \n",
      "22                                 [Pomegranate Cherry]     $3.39    \n",
      "23    [[Tomatillo-Green Chili Salsa (Medium), Tomati...    $10.98    \n",
      "24                                         [Grapefruit]     $3.39    \n",
      "25                                                  NaN     $2.39    \n",
      "26    [Roasted Chili Corn Salsa (Medium), [Pinto Bea...     $8.49    \n",
      "27    [[Tomatillo-Green Chili Salsa (Medium), Roaste...     $8.99    \n",
      "28                                         [Dr. Pepper]     $1.09    \n",
      "29    [Tomatillo-Green Chili Salsa (Medium), [Pinto ...     $8.49    \n",
      "...                                                 ...        ...   \n",
      "4592  [Tomatillo Red Chili Salsa, [Rice, Fajita Vege...    $11.75    \n",
      "4593  [Roasted Chili Corn Salsa, [Rice, Sour Cream, ...    $11.75    \n",
      "4594  [Roasted Chili Corn Salsa, [Pinto Beans, Sour ...    $11.75    \n",
      "4595  [Tomatillo Green Chili Salsa, [Rice, Black Bea...     $8.75    \n",
      "4596                                                NaN     $4.45    \n",
      "4597                                           [Nestea]     $1.25    \n",
      "4598                                                NaN     $1.50    \n",
      "4599      [Roasted Chili Corn Salsa, [Cheese, Lettuce]]     $8.75    \n",
      "4600                                                NaN     $4.45    \n",
      "4601                                        [Diet Coke]     $1.25    \n",
      "4602                      [Tomatillo Green Chili Salsa]     $9.25    \n",
      "4603                      [Tomatillo Green Chili Salsa]     $9.25    \n",
      "4604  [Fresh Tomato Salsa, [Rice, Black Beans, Chees...     $8.75    \n",
      "4605                                                NaN     $4.45    \n",
      "4606                                             [Coke]     $1.25    \n",
      "4607  [Tomatillo Green Chili Salsa, [Rice, Cheese, S...    $11.75    \n",
      "4608  [Tomatillo Red Chili Salsa, [Fajita Vegetables...    $11.25    \n",
      "4609                                           [Sprite]     $1.25    \n",
      "4610  [Fresh Tomato Salsa, [Rice, Sour Cream, Cheese...    $11.75    \n",
      "4611  [Tomatillo Green Chili Salsa, [Rice, Fajita Ve...    $11.25    \n",
      "4612  [Fresh Tomato Salsa, [Fajita Vegetables, Rice,...     $9.25    \n",
      "4613                                                NaN     $2.15    \n",
      "4614                                                NaN     $1.50    \n",
      "4615   [Fresh Tomato Salsa, [Rice, Cheese, Sour Cream]]     $8.75    \n",
      "4616                                                NaN     $4.45    \n",
      "4617  [Fresh Tomato Salsa, [Rice, Black Beans, Sour ...    $11.75    \n",
      "4618  [Fresh Tomato Salsa, [Rice, Sour Cream, Cheese...    $11.75    \n",
      "4619  [Fresh Tomato Salsa, [Fajita Vegetables, Pinto...    $11.25    \n",
      "4620  [Fresh Tomato Salsa, [Fajita Vegetables, Lettu...     $8.75    \n",
      "4621  [Fresh Tomato Salsa, [Fajita Vegetables, Pinto...     $8.75    \n",
      "\n",
      "              renvue         revenue  \n",
      "0             $2.39           $2.39   \n",
      "1             $3.39           $3.39   \n",
      "2             $3.39           $3.39   \n",
      "3             $2.39           $2.39   \n",
      "4     $16.98 $16.98   $16.98 $16.98   \n",
      "5            $10.98          $10.98   \n",
      "6             $1.69           $1.69   \n",
      "7            $11.75          $11.75   \n",
      "8             $9.25           $9.25   \n",
      "9             $9.25           $9.25   \n",
      "10            $4.45           $4.45   \n",
      "11            $8.75           $8.75   \n",
      "12            $8.75           $8.75   \n",
      "13           $11.25          $11.25   \n",
      "14            $4.45           $4.45   \n",
      "15            $2.39           $2.39   \n",
      "16            $8.49           $8.49   \n",
      "17            $8.49           $8.49   \n",
      "18      $2.18 $2.18     $2.18 $2.18   \n",
      "19            $8.75           $8.75   \n",
      "20            $4.45           $4.45   \n",
      "21            $8.99           $8.99   \n",
      "22            $3.39           $3.39   \n",
      "23           $10.98          $10.98   \n",
      "24            $3.39           $3.39   \n",
      "25            $2.39           $2.39   \n",
      "26            $8.49           $8.49   \n",
      "27            $8.99           $8.99   \n",
      "28            $1.09           $1.09   \n",
      "29            $8.49           $8.49   \n",
      "...              ...             ...  \n",
      "4592         $11.75          $11.75   \n",
      "4593         $11.75          $11.75   \n",
      "4594         $11.75          $11.75   \n",
      "4595          $8.75           $8.75   \n",
      "4596          $4.45           $4.45   \n",
      "4597          $1.25           $1.25   \n",
      "4598          $1.50           $1.50   \n",
      "4599          $8.75           $8.75   \n",
      "4600          $4.45           $4.45   \n",
      "4601          $1.25           $1.25   \n",
      "4602          $9.25           $9.25   \n",
      "4603          $9.25           $9.25   \n",
      "4604          $8.75           $8.75   \n",
      "4605          $4.45           $4.45   \n",
      "4606          $1.25           $1.25   \n",
      "4607         $11.75          $11.75   \n",
      "4608         $11.25          $11.25   \n",
      "4609          $1.25           $1.25   \n",
      "4610         $11.75          $11.75   \n",
      "4611         $11.25          $11.25   \n",
      "4612          $9.25           $9.25   \n",
      "4613          $2.15           $2.15   \n",
      "4614          $1.50           $1.50   \n",
      "4615          $8.75           $8.75   \n",
      "4616          $4.45           $4.45   \n",
      "4617         $11.75          $11.75   \n",
      "4618         $11.75          $11.75   \n",
      "4619         $11.25          $11.25   \n",
      "4620          $8.75           $8.75   \n",
      "4621          $8.75           $8.75   \n",
      "\n",
      "[4622 rows x 7 columns]\n"
     ]
    }
   ],
   "source": [
    "\n",
    "print(chipo)\n",
    "transfer = lambda x: float(x[1:-1])\n",
    "chipo.item_price = chipo.item_price.apply(transfer)\n",
    "#print(chipo.head(10))\n",
    "# can only use once, since the DataFrame has been changed"
   ]
  },
  {
   "cell_type": "code",
   "execution_count": 19,
   "metadata": {},
   "outputs": [
    {
     "name": "stdout",
     "output_type": "stream",
     "text": [
      "39237.02\n"
     ]
    }
   ],
   "source": [
    "# how much was the revenue\n",
    "print(sum(chipo['item_price']*chipo['quantity']))"
   ]
  },
  {
   "cell_type": "code",
   "execution_count": 23,
   "metadata": {},
   "outputs": [
    {
     "name": "stdout",
     "output_type": "stream",
     "text": [
      "1834\n"
     ]
    }
   ],
   "source": [
    "# how many orders were made in the period\n",
    "print(len(chipo['order_id'].value_counts()))"
   ]
  },
  {
   "cell_type": "code",
   "execution_count": 18,
   "metadata": {},
   "outputs": [
    {
     "name": "stdout",
     "output_type": "stream",
     "text": [
      "   order_id  quantity                              item_name  \\\n",
      "0         1         1           Chips and Fresh Tomato Salsa   \n",
      "1         1         1                                   Izze   \n",
      "2         1         1                       Nantucket Nectar   \n",
      "3         1         1  Chips and Tomatillo-Green Chili Salsa   \n",
      "4         2         2                           Chicken Bowl   \n",
      "5         3         1                           Chicken Bowl   \n",
      "6         3         1                          Side of Chips   \n",
      "7         4         1                          Steak Burrito   \n",
      "8         4         1                       Steak Soft Tacos   \n",
      "9         5         1                          Steak Burrito   \n",
      "\n",
      "                                  choice_description  item_price  \\\n",
      "0                                                NaN        2.39   \n",
      "1                                       [Clementine]        3.39   \n",
      "2                                            [Apple]        3.39   \n",
      "3                                                NaN        2.39   \n",
      "4  [Tomatillo-Red Chili Salsa (Hot), [Black Beans...       16.98   \n",
      "5  [Fresh Tomato Salsa (Mild), [Rice, Cheese, Sou...       10.98   \n",
      "6                                                NaN        1.69   \n",
      "7  [Tomatillo Red Chili Salsa, [Fajita Vegetables...       11.75   \n",
      "8  [Tomatillo Green Chili Salsa, [Pinto Beans, Ch...        9.25   \n",
      "9  [Fresh Tomato Salsa, [Rice, Black Beans, Pinto...        9.25   \n",
      "\n",
      "           renvue  revenue  \n",
      "0          $2.39      2.39  \n",
      "1          $3.39      3.39  \n",
      "2          $3.39      3.39  \n",
      "3          $2.39      2.39  \n",
      "4  $16.98 $16.98     33.96  \n",
      "5         $10.98     10.98  \n",
      "6          $1.69      1.69  \n",
      "7         $11.75     11.75  \n",
      "8          $9.25      9.25  \n",
      "9          $9.25      9.25  \n",
      "21.394231188658654\n"
     ]
    }
   ],
   "source": [
    "# what is the average amount per order\n",
    "chipo['revenue']=chipo['item_price']*chipo['quantity']\n",
    "print(chipo.head(10))\n",
    "print((chipo.groupby(by='order_id').sum())['revenue'].mean())"
   ]
  },
  {
   "cell_type": "code",
   "execution_count": 21,
   "metadata": {},
   "outputs": [
    {
     "name": "stdout",
     "output_type": "stream",
     "text": [
      "50\n"
     ]
    }
   ],
   "source": [
    "#how many different items are sold\n",
    "print(len(chipo['item_name'].value_counts()))"
   ]
  },
  {
   "cell_type": "code",
   "execution_count": null,
   "metadata": {
    "collapsed": true
   },
   "outputs": [],
   "source": []
  }
 ],
 "metadata": {
  "kernelspec": {
   "display_name": "Python 3",
   "language": "python",
   "name": "python3"
  },
  "language_info": {
   "codemirror_mode": {
    "name": "ipython",
    "version": 3
   },
   "file_extension": ".py",
   "mimetype": "text/x-python",
   "name": "python",
   "nbconvert_exporter": "python",
   "pygments_lexer": "ipython3",
   "version": "3.6.1"
  }
 },
 "nbformat": 4,
 "nbformat_minor": 2
}
